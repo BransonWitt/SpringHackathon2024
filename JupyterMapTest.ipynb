{
 "cells": [
  {
   "cell_type": "code",
   "execution_count": 3,
   "id": "39f67c3c",
   "metadata": {},
   "outputs": [],
   "source": [
    "import prettymaps\n",
    "import matplotlib"
   ]
  },
  {
   "cell_type": "code",
   "execution_count": 10,
   "id": "372f7589",
   "metadata": {},
   "outputs": [
    {
     "name": "stderr",
     "output_type": "stream",
     "text": [
      "C:\\Users\\brans\\anaconda3\\Lib\\site-packages\\osmnx\\geometries.py:358: FutureWarning: You are adding a column named 'geometry' to a GeoDataFrame constructed without an active geometry column. Currently, this automatically sets the active geometry column to 'geometry' but in the future that will no longer happen. Instead, either provide geometry to the GeoDataFrame constructor (GeoDataFrame(... geometry=GeoSeries()) or use `set_geometry('geometry')` to explicitly set the active geometry column.\n",
      "  gdf[\"geometry\"] = np.nan\n",
      "C:\\Users\\brans\\anaconda3\\Lib\\site-packages\\osmnx\\geometries.py:358: FutureWarning: You are adding a column named 'geometry' to a GeoDataFrame constructed without an active geometry column. Currently, this automatically sets the active geometry column to 'geometry' but in the future that will no longer happen. Instead, either provide geometry to the GeoDataFrame constructor (GeoDataFrame(... geometry=GeoSeries()) or use `set_geometry('geometry')` to explicitly set the active geometry column.\n",
      "  gdf[\"geometry\"] = np.nan\n"
     ]
    }
   ],
   "source": [
    "plot = prettymaps.plot((42.25112,-71.82321), radius=400)"
   ]
  },
  {
   "cell_type": "code",
   "execution_count": 9,
   "id": "93343e61",
   "metadata": {},
   "outputs": [
    {
     "data": {
      "text/plain": [
       "'{\"type\": \"FeatureCollection\", \"features\": [{\"id\": \"0\", \"type\": \"Feature\", \"properties\": {}, \"geometry\": {\"type\": \"Polygon\", \"coordinates\": [[[-71.82789224153531, 42.24740247676424], [-71.81820658193344, 42.24764106119343], [-71.81852720928391, 42.25483734615074], [-71.82821396724736, 42.254598701906055], [-71.82789224153531, 42.24740247676424]]]}}]}'"
      ]
     },
     "execution_count": 9,
     "metadata": {},
     "output_type": "execute_result"
    }
   ],
   "source": [
    "prettymaps.fetch.get_boundary((42.25112,-71.82321), radius=400).to_json()"
   ]
  },
  {
   "cell_type": "code",
   "execution_count": 11,
   "id": "7aacdcbc",
   "metadata": {},
   "outputs": [
    {
     "name": "stderr",
     "output_type": "stream",
     "text": [
      "findfont: Font family 'Ubuntu Mono' not found.\n",
      "findfont: Font family 'Ubuntu Mono' not found.\n",
      "findfont: Font family 'Ubuntu Mono' not found.\n",
      "findfont: Font family 'Ubuntu Mono' not found.\n",
      "findfont: Font family 'Ubuntu Mono' not found.\n"
     ]
    }
   ],
   "source": [
    "plot.fig.savefig('C:\\\\Users\\\\brans\\\\Documents\\\\Hackathon2024\\\\clark.png')"
   ]
  },
  {
   "cell_type": "code",
   "execution_count": null,
   "id": "7f52b2fc",
   "metadata": {},
   "outputs": [],
   "source": []
  }
 ],
 "metadata": {
  "kernelspec": {
   "display_name": "Python 3 (ipykernel)",
   "language": "python",
   "name": "python3"
  },
  "language_info": {
   "codemirror_mode": {
    "name": "ipython",
    "version": 3
   },
   "file_extension": ".py",
   "mimetype": "text/x-python",
   "name": "python",
   "nbconvert_exporter": "python",
   "pygments_lexer": "ipython3",
   "version": "3.11.4"
  }
 },
 "nbformat": 4,
 "nbformat_minor": 5
}
